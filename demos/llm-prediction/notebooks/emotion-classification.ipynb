{
 "cells": [
  {
   "metadata": {},
   "cell_type": "markdown",
   "source": [
    "# Emotions classification\n",
    "\n",
    "Fine-tuning LLM to classify emotions conveyed in a piece of text."
   ],
   "id": "7b614a62541f461f"
  },
  {
   "metadata": {
    "ExecuteTime": {
     "end_time": "2024-02-23T12:40:24.534038Z",
     "start_time": "2024-02-23T12:40:24.519734Z"
    }
   },
   "cell_type": "code",
   "source": [
    "from huggingface_hub import notebook_login\n",
    "\n",
    "notebook_login()"
   ],
   "id": "e7fede682fe57645",
   "outputs": [
    {
     "data": {
      "text/plain": [
       "VBox(children=(HTML(value='<center> <img\\nsrc=https://huggingface.co/front/assets/huggingface_logo-noborder.sv…"
      ],
      "application/vnd.jupyter.widget-view+json": {
       "version_major": 2,
       "version_minor": 0,
       "model_id": "30ac5df676764d11bf7d04ad7ea2211a"
      }
     },
     "metadata": {},
     "output_type": "display_data"
    }
   ],
   "execution_count": 2
  },
  {
   "metadata": {
    "ExecuteTime": {
     "end_time": "2024-02-23T12:40:55.743001Z",
     "start_time": "2024-02-23T12:40:55.739563Z"
    }
   },
   "cell_type": "code",
   "source": [
    "import numpy as np\n",
    "from collections import Counter\n",
    "\n",
    "from datasets import load_dataset\n",
    "\n",
    "from transformers import (\n",
    "    AutoTokenizer,\n",
    "    DataCollatorWithPadding,\n",
    "    AutoModelForSequenceClassification, \n",
    "    TrainingArguments, \n",
    "    Trainer\n",
    ")"
   ],
   "id": "initial_id",
   "outputs": [],
   "execution_count": 4
  },
  {
   "metadata": {},
   "cell_type": "markdown",
   "source": "## Retrieve emotions dataset",
   "id": "5e84e763ab796ce"
  },
  {
   "metadata": {
    "ExecuteTime": {
     "end_time": "2024-02-23T12:41:05.996303Z",
     "start_time": "2024-02-23T12:40:59.917569Z"
    }
   },
   "cell_type": "code",
   "source": [
    "# Load in datasets from Hugging Face\n",
    "emotion_train = load_dataset(\"dair-ai/emotion\", split=\"train\", trust_remote_code=True)\n",
    "emotion_val = load_dataset(\"dair-ai/emotion\", split=\"validation\", trust_remote_code=True)\n",
    "emotion_test = load_dataset(\"dair-ai/emotion\", split=\"test\", trust_remote_code=True)"
   ],
   "id": "c3c73e008893afe1",
   "outputs": [],
   "execution_count": 5
  },
  {
   "metadata": {
    "ExecuteTime": {
     "end_time": "2024-02-23T12:41:08.658940Z",
     "start_time": "2024-02-23T12:41:08.642906Z"
    }
   },
   "cell_type": "code",
   "source": "Counter(emotion_train[\"label\"])",
   "id": "dbcbb7319c94717",
   "outputs": [
    {
     "data": {
      "text/plain": [
       "Counter({1: 5362, 0: 4666, 3: 2159, 4: 1937, 2: 1304, 5: 572})"
      ]
     },
     "execution_count": 6,
     "metadata": {},
     "output_type": "execute_result"
    }
   ],
   "execution_count": 6
  },
  {
   "metadata": {},
   "cell_type": "markdown",
   "source": "## Tokenise the datasets",
   "id": "428fcf295625061b"
  },
  {
   "metadata": {
    "ExecuteTime": {
     "end_time": "2024-02-23T12:41:12.303470Z",
     "start_time": "2024-02-23T12:41:12.106703Z"
    }
   },
   "cell_type": "code",
   "source": [
    "# Read in the AutoTokeniser\n",
    "tokenizer = AutoTokenizer.from_pretrained(\"distilbert/distilbert-base-uncased\")\n",
    "\n",
    "def preprocess_function(rows):\n",
    "    return tokenizer(rows[\"text\"])"
   ],
   "id": "7a5667d2724bd9dd",
   "outputs": [],
   "execution_count": 7
  },
  {
   "metadata": {
    "ExecuteTime": {
     "end_time": "2024-02-23T12:41:14.558356Z",
     "start_time": "2024-02-23T12:41:14.522243Z"
    }
   },
   "cell_type": "code",
   "source": [
    "# Tokenise the train and validation data using the AutoTokeniser\n",
    "tokenized_train = emotion_train.map(preprocess_function, batched=True)\n",
    "tokenized_val = emotion_val.map(preprocess_function, batched=True)\n",
    "tokenized_test = emotion_test.map(preprocess_function, batched=True)"
   ],
   "id": "d779c4f5803d4608",
   "outputs": [],
   "execution_count": 8
  },
  {
   "metadata": {
    "ExecuteTime": {
     "end_time": "2024-02-23T12:41:18.622510Z",
     "start_time": "2024-02-23T12:41:18.619485Z"
    }
   },
   "cell_type": "code",
   "source": "data_collator = DataCollatorWithPadding(tokenizer=tokenizer)",
   "id": "89cb82c5b9ed6632",
   "outputs": [],
   "execution_count": 9
  },
  {
   "metadata": {},
   "cell_type": "markdown",
   "source": "## Set up model training",
   "id": "c7016678f0379de2"
  },
  {
   "metadata": {
    "ExecuteTime": {
     "end_time": "2024-02-23T12:41:20.975945Z",
     "start_time": "2024-02-23T12:41:20.973083Z"
    }
   },
   "cell_type": "code",
   "source": [
    "batch_size = 16\n",
    "metric_name = \"f1\""
   ],
   "id": "d3f555b45b39ead7",
   "outputs": [],
   "execution_count": 10
  },
  {
   "metadata": {
    "ExecuteTime": {
     "end_time": "2024-02-23T12:42:22.966509Z",
     "start_time": "2024-02-23T12:42:22.963255Z"
    }
   },
   "cell_type": "code",
   "source": [
    "training_args = TrainingArguments(\n",
    "    \"bert-fine-tuned-emotion-classification-english\",\n",
    "    evaluation_strategy = \"epoch\",\n",
    "    save_strategy = \"epoch\",\n",
    "    learning_rate=2e-5,\n",
    "    per_device_train_batch_size=batch_size,\n",
    "    per_device_eval_batch_size=batch_size,\n",
    "    num_train_epochs=10,\n",
    "    weight_decay=0.01,\n",
    "    load_best_model_at_end=True,\n",
    "    metric_for_best_model=metric_name,\n",
    "    push_to_hub=True,\n",
    ")"
   ],
   "id": "963d45c08e978646",
   "outputs": [],
   "execution_count": 15
  },
  {
   "metadata": {},
   "cell_type": "code",
   "outputs": [],
   "execution_count": null,
   "source": [
    "from sklearn.metrics import f1_score, roc_auc_score, accuracy_score\n",
    "from transformers import EvalPrediction\n",
    "import torch\n",
    "    \n",
    "# source: https://jesusleal.io/2021/04/21/Longformer-multilabel-classification/\n",
    "def multi_label_metrics(predictions, labels, threshold=0.5):\n",
    "    # first, apply sigmoid on predictions which are of shape (batch_size, num_labels)\n",
    "    sigmoid = torch.nn.Sigmoid()\n",
    "    probs = sigmoid(torch.Tensor(predictions))\n",
    "    # next, use threshold to turn them into integer predictions\n",
    "    y_pred = np.zeros(probs.shape)\n",
    "    y_pred[np.where(probs >= threshold)] = 1\n",
    "    # finally, compute metrics\n",
    "    y_true = labels\n",
    "    f1_micro_average = f1_score(y_true=y_true, y_pred=y_pred, average='micro')\n",
    "    roc_auc = roc_auc_score(y_true, y_pred, average = 'micro')\n",
    "    accuracy = accuracy_score(y_true, y_pred)\n",
    "    # return as dictionary\n",
    "    metrics = {'f1': f1_micro_average,\n",
    "               'roc_auc': roc_auc,\n",
    "               'accuracy': accuracy}\n",
    "    return metrics\n",
    "\n",
    "def compute_metrics(p: EvalPrediction):\n",
    "    preds = p.predictions[0] if isinstance(p.predictions, \n",
    "            tuple) else p.predictions\n",
    "    result = multi_label_metrics(\n",
    "        predictions=preds, \n",
    "        labels=p.label_ids)\n",
    "    return result"
   ],
   "id": "bfcf00fe29f10dcb"
  },
  {
   "metadata": {},
   "cell_type": "markdown",
   "source": "## Convert data into tensors",
   "id": "f1d4a0911931773a"
  },
  {
   "metadata": {},
   "cell_type": "code",
   "outputs": [],
   "execution_count": 22,
   "source": [
    "id2label = {0: \"sadness\", 1: \"joy\", 2: \"love\", 3: \"anger\", 4: \"fear\", 5: \"surprise\"}\n",
    "label2id = {\"sadness\": 0, \"joy\": 1, \"love\": 2, \"anger\": 3, \"fear\": 4, \"surprise\": 5}"
   ],
   "id": "c4a66dbb330b52ce"
  },
  {
   "metadata": {},
   "cell_type": "code",
   "outputs": [],
   "execution_count": null,
   "source": [
    "model = AutoModelForSequenceClassification.from_pretrained(\n",
    "    \"distilbert/distilbert-base-uncased\", num_labels=2, id2label=id2label, label2id=label2id\n",
    ")"
   ],
   "id": "22249979e39fee27"
  },
  {
   "metadata": {},
   "cell_type": "code",
   "outputs": [],
   "execution_count": null,
   "source": [
    "training_args = TrainingArguments(\n",
    "    output_dir=\"emotion_classification_model\",\n",
    "    learning_rate=2e-5,\n",
    "    per_device_train_batch_size=16,\n",
    "    per_device_eval_batch_size=16,\n",
    "    num_train_epochs=2,\n",
    "    weight_decay=0.01,\n",
    "    evaluation_strategy=\"epoch\",\n",
    "    save_strategy=\"epoch\",\n",
    "    load_best_model_at_end=True,\n",
    ")\n",
    "\n",
    "trainer = Trainer(\n",
    "    model=model,\n",
    "    args=training_args,\n",
    "    train_dataset=emotion_train,\n",
    "    eval_dataset=emotion_val,\n",
    "    tokenizer=tokenizer,\n",
    "    data_collator=data_collator,\n",
    "    compute_metrics=compute_metrics,\n",
    ")\n",
    "\n",
    "trainer.train()"
   ],
   "id": "f5438fe164f5055d"
  }
 ],
 "metadata": {
  "kernelspec": {
   "display_name": "Python 3",
   "language": "python",
   "name": "python3"
  },
  "language_info": {
   "codemirror_mode": {
    "name": "ipython",
    "version": 2
   },
   "file_extension": ".py",
   "mimetype": "text/x-python",
   "name": "python",
   "nbconvert_exporter": "python",
   "pygments_lexer": "ipython2",
   "version": "2.7.6"
  }
 },
 "nbformat": 4,
 "nbformat_minor": 5
}
